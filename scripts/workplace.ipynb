{
 "cells": [
  {
   "cell_type": "code",
   "execution_count": 11,
   "metadata": {},
   "outputs": [],
   "source": [
    "import kaggle\n",
    "import zipfile\n",
    "import pandas as pd\n",
    "import pydantic\n",
    "\n",
    "CLIMATE_CHANGE_API = \"berkeleyearth/climate-change-earth-surface-temperature-data\"\n",
    "ZIPED_FILE_DIRECTORY = (\n",
    "    \".//raw//ziped//climate-change-earth-surface-temperature-data.zip\"\n",
    ")\n",
    "EXTRACTED_FILE_DIRECTORY = \".//raw//extracted files\"\n",
    "\n",
    "BERKLEY_DATA_SOURCE = \"https://berkeley-earth-temperature.s3.us-west-1.amazonaws.com/Global/Complete_TAVG_daily.txt\"\n",
    "\n",
    "JSON_PATH = (\n",
    "    \"https://nyc3.digitaloceanspaces.com/owid-public/data/energy/owid-energy-data.json\"\n",
    ")\n",
    "XLSX_PATH = (\n",
    "    \"https://nyc3.digitaloceanspaces.com/owid-public/data/energy/owid-energy-data.xlsx\"\n",
    ")\n",
    "CSV_PATH = (\n",
    "    \"https://nyc3.digitaloceanspaces.com/owid-public/data/energy/owid-energy-data.csv\"\n",
    ")\n",
    "\n",
    "\n",
    "def download_files() -> None:\n",
    "    kaggle.api.dataset_download_files(\n",
    "        dataset=CLIMATE_CHANGE_API,\n",
    "        path=\".//raw//ziped\",\n",
    "        quiet=False,\n",
    "        force=False,\n",
    "    )\n",
    "\n",
    "\n",
    "def unzip_file() -> None:\n",
    "    path = ZIPED_FILE_DIRECTORY\n",
    "    with zipfile.ZipFile(path, \"r\") as zip_ref:\n",
    "        zip_ref.extractall(EXTRACTED_FILE_DIRECTORY)\n",
    "\n",
    "\n",
    "def parse_berkley_earth_temperature_dataset(url=BERKLEY_DATA_SOURCE):\n",
    "    df = pd.read_csv(url, header=22)\n",
    "    df.columns = df.columns.str.replace(\"% \", \"\")\n",
    "    return df\n",
    "\n",
    "\n",
    "def download_json_world_energy_dataset():\n",
    "    json_dataset = pd.read_json(JSON_PATH)\n",
    "    return json_dataset\n",
    "\n",
    "\n",
    "def download_xlsx_world_energy_dataset():\n",
    "    excel_dataset = pd.read_excel(XLSX_PATH)\n",
    "    return excel_dataset\n",
    "\n",
    "\n",
    "def download_csv_world_energy_dataset():\n",
    "    csv_dataset = pd.read_csv(CSV_PATH)\n",
    "    return csv_dataset\n"
   ]
  },
  {
   "cell_type": "code",
   "execution_count": 17,
   "metadata": {},
   "outputs": [],
   "source": [
    "df = pd.read_csv(\"..\\\\scripts\\\\raw\\\\extracted files\\\\GlobalLandTemperaturesBycity.csv\")"
   ]
  },
  {
   "cell_type": "code",
   "execution_count": 36,
   "metadata": {},
   "outputs": [
    {
     "data": {
      "text/html": [
       "<div>\n",
       "<style scoped>\n",
       "    .dataframe tbody tr th:only-of-type {\n",
       "        vertical-align: middle;\n",
       "    }\n",
       "\n",
       "    .dataframe tbody tr th {\n",
       "        vertical-align: top;\n",
       "    }\n",
       "\n",
       "    .dataframe thead th {\n",
       "        text-align: right;\n",
       "    }\n",
       "</style>\n",
       "<table border=\"1\" class=\"dataframe\">\n",
       "  <thead>\n",
       "    <tr style=\"text-align: right;\">\n",
       "      <th></th>\n",
       "      <th>dt</th>\n",
       "      <th>AverageTemperature</th>\n",
       "      <th>AverageTemperatureUncertainty</th>\n",
       "      <th>City</th>\n",
       "      <th>Country</th>\n",
       "      <th>Latitude</th>\n",
       "      <th>Longitude</th>\n",
       "    </tr>\n",
       "  </thead>\n",
       "  <tbody>\n",
       "    <tr>\n",
       "      <th>0</th>\n",
       "      <td>1743-11-01</td>\n",
       "      <td>6.068</td>\n",
       "      <td>1.737</td>\n",
       "      <td>Århus</td>\n",
       "      <td>Denmark</td>\n",
       "      <td>57.05N</td>\n",
       "      <td>10.33E</td>\n",
       "    </tr>\n",
       "  </tbody>\n",
       "</table>\n",
       "</div>"
      ],
      "text/plain": [
       "           dt  AverageTemperature  AverageTemperatureUncertainty   City  \\\n",
       "0  1743-11-01               6.068                          1.737  Århus   \n",
       "\n",
       "   Country Latitude Longitude  \n",
       "0  Denmark   57.05N    10.33E  "
      ]
     },
     "execution_count": 36,
     "metadata": {},
     "output_type": "execute_result"
    }
   ],
   "source": [
    "df.head(1)"
   ]
  },
  {
   "cell_type": "code",
   "execution_count": 30,
   "metadata": {},
   "outputs": [],
   "source": [
    "import pydantic\n",
    "import pandera as pa\n",
    "from pandera.typing import Index, DataFrame, Series\n",
    "from datetime import datetime\n",
    "\n"
   ]
  },
  {
   "cell_type": "code",
   "execution_count": 61,
   "metadata": {},
   "outputs": [
    {
     "ename": "TypeError",
     "evalue": "Check.__init__() missing 1 required positional argument: 'check_fn'",
     "output_type": "error",
     "traceback": [
      "\u001b[1;31m---------------------------------------------------------------------------\u001b[0m",
      "\u001b[1;31mTypeError\u001b[0m                                 Traceback (most recent call last)",
      "\u001b[1;32mc:\\Climate_change\\climate-change\\scripts\\workplace.ipynb Cell 5\u001b[0m in \u001b[0;36m<cell line: 7>\u001b[1;34m()\u001b[0m\n\u001b[0;32m      <a href='vscode-notebook-cell:/c%3A/Climate_change/climate-change/scripts/workplace.ipynb#W6sZmlsZQ%3D%3D?line=2'>3</a>\u001b[0m \u001b[39mfrom\u001b[39;00m \u001b[39mpandera\u001b[39;00m\u001b[39m.\u001b[39;00m\u001b[39mtyping\u001b[39;00m \u001b[39mimport\u001b[39;00m Index, DataFrame, Series\n\u001b[0;32m      <a href='vscode-notebook-cell:/c%3A/Climate_change/climate-change/scripts/workplace.ipynb#W6sZmlsZQ%3D%3D?line=3'>4</a>\u001b[0m \u001b[39mfrom\u001b[39;00m \u001b[39mdatetime\u001b[39;00m \u001b[39mimport\u001b[39;00m datetime\n\u001b[1;32m----> <a href='vscode-notebook-cell:/c%3A/Climate_change/climate-change/scripts/workplace.ipynb#W6sZmlsZQ%3D%3D?line=6'>7</a>\u001b[0m \u001b[39mclass\u001b[39;00m \u001b[39mInputSchema\u001b[39;00m(pa\u001b[39m.\u001b[39mSchemaModel):\n\u001b[0;32m      <a href='vscode-notebook-cell:/c%3A/Climate_change/climate-change/scripts/workplace.ipynb#W6sZmlsZQ%3D%3D?line=7'>8</a>\u001b[0m     date: Series[datetime] \u001b[39m=\u001b[39m pa\u001b[39m.\u001b[39mField(check\u001b[39m=\u001b[39mpa\u001b[39m.\u001b[39mCheck(dtype\u001b[39m=\u001b[39mdatetime), coerce\u001b[39m=\u001b[39m\u001b[39mTrue\u001b[39;00m)\n\u001b[0;32m      <a href='vscode-notebook-cell:/c%3A/Climate_change/climate-change/scripts/workplace.ipynb#W6sZmlsZQ%3D%3D?line=8'>9</a>\u001b[0m     num: Series[\u001b[39mint\u001b[39m] \u001b[39m=\u001b[39m pa\u001b[39m.\u001b[39mField(coerce\u001b[39m=\u001b[39m\u001b[39mTrue\u001b[39;00m)\n",
      "\u001b[1;32mc:\\Climate_change\\climate-change\\scripts\\workplace.ipynb Cell 5\u001b[0m in \u001b[0;36mInputSchema\u001b[1;34m()\u001b[0m\n\u001b[0;32m      <a href='vscode-notebook-cell:/c%3A/Climate_change/climate-change/scripts/workplace.ipynb#W6sZmlsZQ%3D%3D?line=6'>7</a>\u001b[0m \u001b[39mclass\u001b[39;00m \u001b[39mInputSchema\u001b[39;00m(pa\u001b[39m.\u001b[39mSchemaModel):\n\u001b[1;32m----> <a href='vscode-notebook-cell:/c%3A/Climate_change/climate-change/scripts/workplace.ipynb#W6sZmlsZQ%3D%3D?line=7'>8</a>\u001b[0m     date: Series[datetime] \u001b[39m=\u001b[39m pa\u001b[39m.\u001b[39mField(check\u001b[39m=\u001b[39mpa\u001b[39m.\u001b[39;49mCheck(dtype\u001b[39m=\u001b[39;49mdatetime), coerce\u001b[39m=\u001b[39m\u001b[39mTrue\u001b[39;00m)\n\u001b[0;32m      <a href='vscode-notebook-cell:/c%3A/Climate_change/climate-change/scripts/workplace.ipynb#W6sZmlsZQ%3D%3D?line=8'>9</a>\u001b[0m     num: Series[\u001b[39mint\u001b[39m] \u001b[39m=\u001b[39m pa\u001b[39m.\u001b[39mField(coerce\u001b[39m=\u001b[39m\u001b[39mTrue\u001b[39;00m)\n\u001b[0;32m     <a href='vscode-notebook-cell:/c%3A/Climate_change/climate-change/scripts/workplace.ipynb#W6sZmlsZQ%3D%3D?line=9'>10</a>\u001b[0m     value: Series[\u001b[39mstr\u001b[39m] \u001b[39m=\u001b[39m pa\u001b[39m.\u001b[39mField(coerce\u001b[39m=\u001b[39m\u001b[39mTrue\u001b[39;00m)\n",
      "\u001b[1;31mTypeError\u001b[0m: Check.__init__() missing 1 required positional argument: 'check_fn'"
     ]
    }
   ],
   "source": [
    "import pandas as pd\n",
    "import pandera as pa\n",
    "from pandera.typing import Index, DataFrame, Series\n",
    "from datetime import datetime\n",
    "\n",
    "\n",
    "class InputSchema(pa.SchemaModel):\n",
    "    date: Series[datetime] = pa.Field(check=pa.Check.strftime(\"%Y-%m-%d\"), \n",
    "        coerce=True)\n",
    "    num: Series[int] = pa.Field(coerce=True)\n",
    "    value: Series[str] = pa.Field(coerce=True)\n",
    "\n",
    "\n",
    "class OutputSchema(InputSchema):\n",
    "    pass\n",
    "\n",
    "\n",
    "@pa.check_types\n",
    "def transform(df: DataFrame[InputSchema]) -> DataFrame[OutputSchema]:\n",
    "    return df\n",
    "\n",
    "\n",
    "dff = pd.DataFrame({\n",
    "    'date': ['2022-12-23', '2022-12-23', '2022-12-23', '2022-12-23', '2022-12-23'],\n",
    "    'num': [1, 2, 3, 4, 5],\n",
    "    'value': ['dar', 'var', 'car', 'far', 'car']\n",
    "})\n",
    "\n",
    "transform(dff)\n"
   ]
  },
  {
   "cell_type": "code",
   "execution_count": 39,
   "metadata": {},
   "outputs": [],
   "source": [
    "dff = pd.DataFrame({\n",
    "'num':[1,2,3,4,5],\n",
    "'value':['dar','var','car','far','car']  \n",
    "})"
   ]
  },
  {
   "cell_type": "code",
   "execution_count": 59,
   "metadata": {},
   "outputs": [
    {
     "ename": "SchemaInitError",
     "evalue": "custom check 'format' is not available. Make sure you use pandera.extensions.register_check_method decorator to register your custom check method.",
     "output_type": "error",
     "traceback": [
      "\u001b[1;31m---------------------------------------------------------------------------\u001b[0m",
      "\u001b[1;31mSchemaInitError\u001b[0m                           Traceback (most recent call last)",
      "\u001b[1;32mc:\\Climate_change\\climate-change\\scripts\\workplace.ipynb Cell 7\u001b[0m in \u001b[0;36m<cell line: 8>\u001b[1;34m()\u001b[0m\n\u001b[0;32m      <a href='vscode-notebook-cell:/c%3A/Climate_change/climate-change/scripts/workplace.ipynb#X12sZmlsZQ%3D%3D?line=0'>1</a>\u001b[0m dff \u001b[39m=\u001b[39m pd\u001b[39m.\u001b[39mDataFrame({\n\u001b[0;32m      <a href='vscode-notebook-cell:/c%3A/Climate_change/climate-change/scripts/workplace.ipynb#X12sZmlsZQ%3D%3D?line=1'>2</a>\u001b[0m \u001b[39m'\u001b[39m\u001b[39mdate\u001b[39m\u001b[39m'\u001b[39m:[\u001b[39m'\u001b[39m\u001b[39m2022-12-23\u001b[39m\u001b[39m'\u001b[39m,\u001b[39m'\u001b[39m\u001b[39m2022-12-23\u001b[39m\u001b[39m'\u001b[39m,\u001b[39m'\u001b[39m\u001b[39m2022-12-23\u001b[39m\u001b[39m'\u001b[39m,\u001b[39m'\u001b[39m\u001b[39m2022-12-23\u001b[39m\u001b[39m'\u001b[39m,\u001b[39m'\u001b[39m\u001b[39m2022-12-23\u001b[39m\u001b[39m'\u001b[39m],\n\u001b[0;32m      <a href='vscode-notebook-cell:/c%3A/Climate_change/climate-change/scripts/workplace.ipynb#X12sZmlsZQ%3D%3D?line=2'>3</a>\u001b[0m \u001b[39m'\u001b[39m\u001b[39mnum\u001b[39m\u001b[39m'\u001b[39m:[\u001b[39m1\u001b[39m,\u001b[39m2\u001b[39m,\u001b[39m3\u001b[39m,\u001b[39m4\u001b[39m,\u001b[39m5\u001b[39m],\n\u001b[0;32m      <a href='vscode-notebook-cell:/c%3A/Climate_change/climate-change/scripts/workplace.ipynb#X12sZmlsZQ%3D%3D?line=3'>4</a>\u001b[0m \u001b[39m'\u001b[39m\u001b[39mvalue\u001b[39m\u001b[39m'\u001b[39m:[\u001b[39m'\u001b[39m\u001b[39mdar\u001b[39m\u001b[39m'\u001b[39m,\u001b[39m'\u001b[39m\u001b[39mvar\u001b[39m\u001b[39m'\u001b[39m,\u001b[39m'\u001b[39m\u001b[39mcar\u001b[39m\u001b[39m'\u001b[39m,\u001b[39m'\u001b[39m\u001b[39mfar\u001b[39m\u001b[39m'\u001b[39m,\u001b[39m'\u001b[39m\u001b[39mcar\u001b[39m\u001b[39m'\u001b[39m]  \n\u001b[0;32m      <a href='vscode-notebook-cell:/c%3A/Climate_change/climate-change/scripts/workplace.ipynb#X12sZmlsZQ%3D%3D?line=4'>5</a>\u001b[0m })\n\u001b[1;32m----> <a href='vscode-notebook-cell:/c%3A/Climate_change/climate-change/scripts/workplace.ipynb#X12sZmlsZQ%3D%3D?line=7'>8</a>\u001b[0m \u001b[39mclass\u001b[39;00m \u001b[39mInputSchema\u001b[39;00m(pa\u001b[39m.\u001b[39mSchemaModel):\n\u001b[0;32m      <a href='vscode-notebook-cell:/c%3A/Climate_change/climate-change/scripts/workplace.ipynb#X12sZmlsZQ%3D%3D?line=8'>9</a>\u001b[0m     date: datetime \u001b[39m=\u001b[39m pa\u001b[39m.\u001b[39mField(\u001b[39mformat\u001b[39m\u001b[39m=\u001b[39m\u001b[39m\"\u001b[39m\u001b[39m%\u001b[39m\u001b[39mY-\u001b[39m\u001b[39m%\u001b[39m\u001b[39mm-\u001b[39m\u001b[39m%d\u001b[39;00m\u001b[39m\"\u001b[39m, coerce\u001b[39m=\u001b[39m\u001b[39mTrue\u001b[39;00m)\n\u001b[0;32m     <a href='vscode-notebook-cell:/c%3A/Climate_change/climate-change/scripts/workplace.ipynb#X12sZmlsZQ%3D%3D?line=9'>10</a>\u001b[0m     num: Series[\u001b[39mint\u001b[39m] \u001b[39m=\u001b[39m pa\u001b[39m.\u001b[39mField(coerce\u001b[39m=\u001b[39m\u001b[39mTrue\u001b[39;00m)\n",
      "\u001b[1;32mc:\\Climate_change\\climate-change\\scripts\\workplace.ipynb Cell 7\u001b[0m in \u001b[0;36mInputSchema\u001b[1;34m()\u001b[0m\n\u001b[0;32m      <a href='vscode-notebook-cell:/c%3A/Climate_change/climate-change/scripts/workplace.ipynb#X12sZmlsZQ%3D%3D?line=7'>8</a>\u001b[0m \u001b[39mclass\u001b[39;00m \u001b[39mInputSchema\u001b[39;00m(pa\u001b[39m.\u001b[39mSchemaModel):\n\u001b[1;32m----> <a href='vscode-notebook-cell:/c%3A/Climate_change/climate-change/scripts/workplace.ipynb#X12sZmlsZQ%3D%3D?line=8'>9</a>\u001b[0m     date: datetime \u001b[39m=\u001b[39m pa\u001b[39m.\u001b[39;49mField(\u001b[39mformat\u001b[39;49m\u001b[39m=\u001b[39;49m\u001b[39m\"\u001b[39;49m\u001b[39m%\u001b[39;49m\u001b[39mY-\u001b[39;49m\u001b[39m%\u001b[39;49m\u001b[39mm-\u001b[39;49m\u001b[39m%d\u001b[39;49;00m\u001b[39m\"\u001b[39;49m, coerce\u001b[39m=\u001b[39;49m\u001b[39mTrue\u001b[39;49;00m)\n\u001b[0;32m     <a href='vscode-notebook-cell:/c%3A/Climate_change/climate-change/scripts/workplace.ipynb#X12sZmlsZQ%3D%3D?line=9'>10</a>\u001b[0m     num: Series[\u001b[39mint\u001b[39m] \u001b[39m=\u001b[39m pa\u001b[39m.\u001b[39mField(coerce\u001b[39m=\u001b[39m\u001b[39mTrue\u001b[39;00m)\n\u001b[0;32m     <a href='vscode-notebook-cell:/c%3A/Climate_change/climate-change/scripts/workplace.ipynb#X12sZmlsZQ%3D%3D?line=10'>11</a>\u001b[0m     value: Series[\u001b[39mstr\u001b[39m] \u001b[39m=\u001b[39m pa\u001b[39m.\u001b[39mField(coerce\u001b[39m=\u001b[39m\u001b[39mTrue\u001b[39;00m)\n",
      "File \u001b[1;32mc:\\Users\\darju\\AppData\\Local\\Programs\\Python\\Python310\\lib\\site-packages\\pandera\\api\\pandas\\model_components.py:170\u001b[0m, in \u001b[0;36mField\u001b[1;34m(eq, ne, gt, ge, lt, le, in_range, isin, notin, str_contains, str_endswith, str_length, str_matches, str_startswith, nullable, unique, coerce, regex, ignore_na, raise_warning, n_failure_cases, alias, check_name, dtype_kwargs, title, description, default, **kwargs)\u001b[0m\n\u001b[0;32m    168\u001b[0m \u001b[39mfor\u001b[39;00m key \u001b[39min\u001b[39;00m kwargs:\n\u001b[0;32m    169\u001b[0m     \u001b[39mif\u001b[39;00m key \u001b[39mnot\u001b[39;00m \u001b[39min\u001b[39;00m check_dispatch:\n\u001b[1;32m--> 170\u001b[0m         \u001b[39mraise\u001b[39;00m SchemaInitError(\n\u001b[0;32m    171\u001b[0m             \u001b[39mf\u001b[39m\u001b[39m\"\u001b[39m\u001b[39mcustom check \u001b[39m\u001b[39m'\u001b[39m\u001b[39m{\u001b[39;00mkey\u001b[39m}\u001b[39;00m\u001b[39m'\u001b[39m\u001b[39m is not available. Make sure you use \u001b[39m\u001b[39m\"\u001b[39m\n\u001b[0;32m    172\u001b[0m             \u001b[39m\"\u001b[39m\u001b[39mpandera.extensions.register_check_method decorator to \u001b[39m\u001b[39m\"\u001b[39m\n\u001b[0;32m    173\u001b[0m             \u001b[39m\"\u001b[39m\u001b[39mregister your custom check method.\u001b[39m\u001b[39m\"\u001b[39m\n\u001b[0;32m    174\u001b[0m         )\n\u001b[0;32m    176\u001b[0m \u001b[39mfor\u001b[39;00m arg_name, check_constructor \u001b[39min\u001b[39;00m check_dispatch\u001b[39m.\u001b[39mitems():\n\u001b[0;32m    177\u001b[0m     arg_value \u001b[39m=\u001b[39m args\u001b[39m.\u001b[39mget(arg_name, kwargs\u001b[39m.\u001b[39mget(arg_name))\n",
      "\u001b[1;31mSchemaInitError\u001b[0m: custom check 'format' is not available. Make sure you use pandera.extensions.register_check_method decorator to register your custom check method."
     ]
    }
   ],
   "source": [
    "dff = pd.DataFrame({\n",
    "'date':['2022-12-23','2022-12-23','2022-12-23','2022-12-23','2022-12-23'],\n",
    "'num':[1,2,3,4,5],\n",
    "'value':['dar','var','car','far','car']  \n",
    "})\n",
    "\n",
    "\n",
    "class InputSchema(pa.SchemaModel):\n",
    "    date: datetime = pa.Field(format=\"%Y-%m-%d\", coerce=True)\n",
    "    num: Series[int] = pa.Field(coerce=True)\n",
    "    value: Series[str] = pa.Field(coerce=True)\n",
    "\n",
    "    \n",
    "class OutputSchema(InputSchema):\n",
    "    date: datetime = pa.Field(format=\"%Y-%m-%d\", coerce=True)\n",
    "    num: Series[int] = pa.Field(coerce=True)\n",
    "    value: Series[str] = pa.Field(coerce=True)\n",
    "    \n",
    "@pa.check_types\n",
    "def transform(df: DataFrame[InputSchema]) -> DataFrame[OutputSchema]:\n",
    "    return df\n",
    "\n",
    "transform(dff)"
   ]
  }
 ],
 "metadata": {
  "kernelspec": {
   "display_name": "Python 3",
   "language": "python",
   "name": "python3"
  },
  "language_info": {
   "codemirror_mode": {
    "name": "ipython",
    "version": 3
   },
   "file_extension": ".py",
   "mimetype": "text/x-python",
   "name": "python",
   "nbconvert_exporter": "python",
   "pygments_lexer": "ipython3",
   "version": "3.10.5"
  },
  "orig_nbformat": 4
 },
 "nbformat": 4,
 "nbformat_minor": 2
}
